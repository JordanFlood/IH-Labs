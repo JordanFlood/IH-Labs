{
 "cells": [
  {
   "cell_type": "markdown",
   "metadata": {},
   "source": [
    "###  API wrappers - Create your collection of songs & audio features  \n",
    "**Instructions**\n",
    "\n",
    "To move forward with the project, you need to create a collection of songs with their audio features - as large as possible!\n",
    "\n",
    "These are the songs that we will cluster. And, later, when the user inputs a song, we will find the cluster to which the song belongs and recommend a song from the same cluster. The more songs you have, the more accurate and diverse recommendations you'll be able to give. Although... you might want to make sure the collected songs are \"curated\" in a certain way. Try to find playlists of songs that are diverse, but also that meet certain standards.\n",
    "\n",
    "The process of sending hundreds or thousands of requests can take some time - it's normal if you have to wait a few minutes (or, if you're ambitious, even hours) to get all the data you need.\n",
    "\n",
    "An idea for collecting as many songs as possible is to start with all the songs of a big, diverse playlist and then go to every artist present in the playlist and grab every song of every album of that artist. The amount of songs you'll be collecting per playlist will grow exponentially!"
   ]
  },
  {
   "cell_type": "markdown",
   "metadata": {},
   "source": [
    "### exploratory"
   ]
  },
  {
   "cell_type": "code",
   "execution_count": null,
   "metadata": {},
   "outputs": [],
   "source": [
    "import spotipy\n",
    "from spotipy.oauth2 import SpotifyClientCredentials\n",
    "import time\n",
    "import pandas as pd\n",
    "from pandas import json_normalize"
   ]
  },
  {
   "cell_type": "code",
   "execution_count": null,
   "metadata": {},
   "outputs": [],
   "source": [
    "# retrieve secrets\n",
    "def read_secrets(file_path):\n",
    "    with open(file_path, 'r') as file:\n",
    "        lines = file.readlines()\n",
    "        client_id = lines[0].strip().split(':')[1]\n",
    "        client_secret = lines[1].strip().split(':')[1]\n",
    "    return client_id, client_secret\n",
    "\n",
    "# Read client ID and client secret from secrets.txt\n",
    "client_id, client_secret = read_secrets('secrets.txt')"
   ]
  },
  {
   "cell_type": "code",
   "execution_count": null,
   "metadata": {},
   "outputs": [],
   "source": [
    "# Initialize Spotipy client\n",
    "sp = spotipy.Spotify(auth_manager=SpotifyClientCredentials(client_id=client_id, client_secret=client_secret))\n",
    "\n",
    "# Function to retrieve all track IDs from a playlist\n",
    "def get_playlist_tracks(playlist_id):\n",
    "    results = sp.playlist_tracks(playlist_id)\n",
    "    tracks = results['items']\n",
    "    while results['next']:\n",
    "        results = sp.next(results)\n",
    "        tracks.extend(results['items'])\n",
    "    return [track['track']['id'] for track in tracks if track['track'] is not None]\n",
    "\n",
    "# Function to retrieve all albums for an artist\n",
    "def get_artist_albums(artist_id):\n",
    "    albums = []\n",
    "    results = sp.artist_albums(artist_id, album_type='album')\n",
    "    albums.extend(results['items'])\n",
    "    while results['next']:\n",
    "        results = sp.next(results)\n",
    "        albums.extend(results['items'])\n",
    "    return albums\n",
    "\n",
    "# Function to retrieve all tracks from an album\n",
    "def get_album_tracks(album_id):\n",
    "    tracks = []\n",
    "    results = sp.album_tracks(album_id)\n",
    "    tracks.extend(results['items'])\n",
    "    while results['next']:\n",
    "        results = sp.next(results)\n",
    "        tracks.extend(results['items'])\n",
    "    return [track['id'] for track in tracks]\n",
    "\n",
    "\n",
    "# Function to retrieve all albums for an artist with retries\n",
    "def get_artist_albums_with_retry(artist_id, max_retries=3):\n",
    "    retries = 0\n",
    "    while retries < max_retries:\n",
    "        try:\n",
    "            return get_artist_albums(artist_id)\n",
    "        except Exception as e:\n",
    "            print(f\"Error retrieving albums for artist {artist_id}. Retrying...\")\n",
    "            retries += 1\n",
    "            time.sleep(2 ** retries)  # Exponential backoff\n",
    "    raise Exception(f\"Failed after {max_retries} retries.\")\n",
    "\n",
    "# Function to retrieve all tracks from an album with retries\n",
    "def get_album_tracks_with_retry(album_id, max_retries=3):\n",
    "    retries = 0\n",
    "    while retries < max_retries:\n",
    "        try:\n",
    "            return get_album_tracks(album_id)\n",
    "        except Exception as e:\n",
    "            print(f\"Error retrieving tracks for album {album_id}. Retrying...\")\n",
    "            retries += 1\n",
    "            time.sleep(2 ** retries)  # Exponential backoff\n",
    "    raise Exception(f\"Failed after {max_retries} retries.\")\n",
    "\n",
    "# Function to get audio features for a list of tracks\n",
    "def get_audio_features(track_ids):\n",
    "    audio_features = []\n",
    "    for i in range(0, len(track_ids), 50):\n",
    "        batch = track_ids[i:i+50]\n",
    "        audio_features.extend(sp.audio_features(batch))\n",
    "    return audio_features"
   ]
  },
  {
   "cell_type": "code",
   "execution_count": null,
   "metadata": {},
   "outputs": [],
   "source": [
    "# initial playlist ID\n",
    "playlist_id = '37i9dQZF1DXbTxeAdrVG2l'\n",
    "\n",
    "# Retrieve track IDs from the seed playlist\n",
    "playlist_id = get_playlist_tracks(playlist_id)"
   ]
  },
  {
   "cell_type": "code",
   "execution_count": null,
   "metadata": {},
   "outputs": [],
   "source": [
    "len(playlist_id)#"
   ]
  },
  {
   "cell_type": "code",
   "execution_count": 7,
   "metadata": {},
   "outputs": [],
   "source": [
    "all_track_ids = []\n",
    "for track_id in playlist_id:\n",
    "    track_info = sp.track(track_id)\n",
    "    artist_id = track_info['artists'][0]['id']\n",
    "    albums = get_artist_albums_with_retry(artist_id)\n",
    "    for album in albums:\n",
    "        album_id = album['id']\n",
    "        album_tracks = get_album_tracks_with_retry(album_id)\n",
    "        all_track_ids.extend(album_tracks)\n",
    "    time.sleep(0.5)"
   ]
  },
  {
   "cell_type": "code",
   "execution_count": null,
   "metadata": {},
   "outputs": [],
   "source": [
    "len(all_track_ids)"
   ]
  },
  {
   "cell_type": "code",
   "execution_count": null,
   "metadata": {},
   "outputs": [],
   "source": [
    "# Remove duplicates\n",
    "all_track_ids = list(set(all_track_ids))\n",
    "len(all_track_ids)"
   ]
  },
  {
   "cell_type": "code",
   "execution_count": null,
   "metadata": {},
   "outputs": [],
   "source": [
    "#all_track_ids"
   ]
  },
  {
   "cell_type": "code",
   "execution_count": null,
   "metadata": {},
   "outputs": [],
   "source": [
    "# Retrieve audio features for all tracks\n",
    "audio_features = get_audio_features(all_track_ids)"
   ]
  },
  {
   "cell_type": "code",
   "execution_count": null,
   "metadata": {},
   "outputs": [],
   "source": [
    "# Create a dictionary to store song data\n",
    "audio_feature_list = {}\n",
    "for track_id, audio_feature in zip(all_track_ids, audio_features):\n",
    "    audio_feature_list[track_id] = audio_feature"
   ]
  },
  {
   "cell_type": "code",
   "execution_count": null,
   "metadata": {},
   "outputs": [],
   "source": [
    "len(audio_feature_list)"
   ]
  },
  {
   "cell_type": "code",
   "execution_count": null,
   "metadata": {},
   "outputs": [],
   "source": [
    "# Create DataFrame\n",
    "track_df = pd.DataFrame(audio_feature_list).T.reset_index()\n",
    "\n",
    "# Rename columns\n",
    "track_df.columns = ['track_id'] + list(track_df.columns[1:])\n",
    "\n",
    "track_df"
   ]
  },
  {
   "cell_type": "code",
   "execution_count": null,
   "metadata": {},
   "outputs": [],
   "source": [
    "track_df.to_csv('2000s.csv', index=False)"
   ]
  },
  {
   "cell_type": "code",
   "execution_count": null,
   "metadata": {},
   "outputs": [],
   "source": [
    "df_1990s = pd.read_csv('1990s.csv')\n",
    "df_2000s = pd.read_csv('2000s.csv')\n",
    "\n",
    "combined_df = pd.concat([df_1990s, df_2000s], ignore_index=True)\n",
    "combined_df"
   ]
  },
  {
   "cell_type": "markdown",
   "metadata": {},
   "source": [
    "### refactored version"
   ]
  },
  {
   "cell_type": "code",
   "execution_count": null,
   "metadata": {},
   "outputs": [],
   "source": [
    "import pandas as pd\n",
    "from spotipy_playlist import get_songs_from_playlists"
   ]
  },
  {
   "cell_type": "code",
   "execution_count": null,
   "metadata": {},
   "outputs": [],
   "source": [
    "from importlib import reload\n",
    "import spotipy_playlist\n",
    "reload(spotipy_playlist)"
   ]
  },
  {
   "cell_type": "code",
   "execution_count": null,
   "metadata": {},
   "outputs": [],
   "source": [
    "# all out of 1990 \n",
    "nintety = '37i9dQZF1DXbTxeAdrVG2l'\n",
    "# all out of 2000 \n",
    "two_thousand = '37i9dQZF1DX4o1oenSJRJd'\n",
    "# all out of 2010\n",
    "twenty_ten = '37i9dQZF1DX5Ejj0EkURtP'\n",
    "\n",
    "playlists = [nintety, two_thousand, twenty_ten]\n",
    "playlists"
   ]
  },
  {
   "cell_type": "code",
   "execution_count": null,
   "metadata": {},
   "outputs": [],
   "source": [
    "# retrieve df from given playlists where it also grabs all songs by each artist, also write to csv (spotify_songs.csv)\n",
    "ninety_df = get_songs_from_playlists(nintety)"
   ]
  },
  {
   "cell_type": "code",
   "execution_count": null,
   "metadata": {},
   "outputs": [],
   "source": [
    "two_thousand_df = get_songs_from_playlists(two_thousand, 'two_thousands')"
   ]
  },
  {
   "cell_type": "code",
   "execution_count": null,
   "metadata": {},
   "outputs": [],
   "source": [
    "twenty_ten_df = get_songs_from_playlists(twenty_ten, 'twenty_tens')"
   ]
  },
  {
   "cell_type": "code",
   "execution_count": null,
   "metadata": {},
   "outputs": [],
   "source": [
    "ninety_till_twenty_ten = get_songs_from_playlists(playlists, 'nineties_till_twenty_tens')"
   ]
  },
  {
   "cell_type": "markdown",
   "metadata": {},
   "source": []
  }
 ],
 "metadata": {
  "kernelspec": {
   "display_name": "base",
   "language": "python",
   "name": "python3"
  },
  "language_info": {
   "codemirror_mode": {
    "name": "ipython",
    "version": 3
   },
   "file_extension": ".py",
   "mimetype": "text/x-python",
   "name": "python",
   "nbconvert_exporter": "python",
   "pygments_lexer": "ipython3",
   "version": "3.11.8"
  }
 },
 "nbformat": 4,
 "nbformat_minor": 2
}
