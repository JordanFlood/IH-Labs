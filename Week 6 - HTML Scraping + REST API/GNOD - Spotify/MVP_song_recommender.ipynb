{
 "cells": [
  {
   "cell_type": "code",
   "execution_count": 1,
   "metadata": {},
   "outputs": [],
   "source": [
    "import pandas as pd\n",
    "import random"
   ]
  },
  {
   "cell_type": "markdown",
   "metadata": {},
   "source": [
    "### Create a MVP Recommender systemm   \n",
    "> should ask for an artist, when they are in the df recommend a random song"
   ]
  },
  {
   "cell_type": "code",
   "execution_count": 2,
   "metadata": {},
   "outputs": [],
   "source": [
    "# recommends a random song if the given artist is in the song collection\n",
    "def recommend_song(artist, song_collection):\n",
    "    artist = artist.lower()\n",
    "    matching_songs = song_collection[song_collection['artist'].str.lower() == artist]\n",
    "    if not matching_songs.empty:\n",
    "        other_songs = song_collection[song_collection['artist'].str.lower() != artist]\n",
    "        random_song = other_songs.sample()\n",
    "        return f\"Check out '{random_song['title'].values[0]}' by {random_song['artist'].values[0]}!\"\n",
    "    else:\n",
    "        return \"Sorry, there are no recommendations at the moment.\""
   ]
  },
  {
   "cell_type": "code",
   "execution_count": 5,
   "metadata": {},
   "outputs": [],
   "source": [
    "# Load the CSV file into a DataFrame\n",
    "df = pd.read_csv('song_collection.csv')\n",
    "# ask for user input\n",
    "artist_input = input(\"Enter an artist's name: \")"
   ]
  },
  {
   "cell_type": "code",
   "execution_count": 6,
   "metadata": {},
   "outputs": [
    {
     "name": "stdout",
     "output_type": "stream",
     "text": [
      "Check out 'Save Me' by Jelly Roll!\n"
     ]
    }
   ],
   "source": [
    "# use the function\n",
    "recommendation = recommend_song(artist_input, df)\n",
    "print(recommendation)"
   ]
  }
 ],
 "metadata": {
  "kernelspec": {
   "display_name": "base",
   "language": "python",
   "name": "python3"
  },
  "language_info": {
   "codemirror_mode": {
    "name": "ipython",
    "version": 3
   },
   "file_extension": ".py",
   "mimetype": "text/x-python",
   "name": "python",
   "nbconvert_exporter": "python",
   "pygments_lexer": "ipython3",
   "version": "3.11.8"
  }
 },
 "nbformat": 4,
 "nbformat_minor": 2
}
