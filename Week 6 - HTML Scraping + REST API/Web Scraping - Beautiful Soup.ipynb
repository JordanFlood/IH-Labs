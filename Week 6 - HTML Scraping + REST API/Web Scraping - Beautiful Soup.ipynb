{
 "cells": [
  {
   "cell_type": "markdown",
   "metadata": {},
   "source": [
    "Context : Dear xxxxxxxx,\n",
    "\n",
    "We are thrilled to welcome you as a Data Analyst for Gnoosic!\n",
    "\n",
    "As you know, we are trying to come up with ways to enhance our music recommendations. One of the new features we'd like to research is to recommend songs (not only bands). We're also aware of the limitations of our collaborative filtering algorithms, and would like to give users two new possibilities when searching for recommendations:\n",
    "\n",
    "Songs that are actually similar to the ones they picked from an acoustic point of view.\n",
    "Songs that are popular around the world right now, independently from their tastes.\n",
    "Coming up with the perfect song recommender will take us months - no need to stress out too much. In this first week, we want you to explore new data sources for songs. The internet is full of information and our first step is to acquire it do an initial exploration. Feel free to use APIs or directly scrape the web to collect as much information as possible from popular songs. Eventually, we'll need to collect data from millions of songs, but we can start with a few hundreds or thousands from each source and see if the collected features are useful. \n",
    "\n",
    "Once the data is collected, we want you to create clusters of songs that are similar to each other. The idea is that if a user inputs a song from one group, we'll prioritize giving them recommendations of songs from that same group.\n",
    "\n",
    "On Friday, you will present your work to me and Marek, the CEO and founder. Full disclosure: I need you to be very convincing about this whole song-recommender, as this has been my personal push and the main reason we hired you for!\n",
    "\n",
    "Be open minded about this process: we are agile, and that means that we define our products and features on-the-go, while exploring the tools and the data that's available to us. We'd love you to provide your own vision of the product and the next steps to be taken.\n",
    "\n",
    "Lots of luck and strength for this first week with us!\n",
    "\n",
    "Jane"
   ]
  },
  {
   "cell_type": "code",
   "execution_count": 1,
   "metadata": {},
   "outputs": [],
   "source": [
    "from bs4 import BeautifulSoup\n",
    "import requests\n",
    "import pandas as pd"
   ]
  },
  {
   "cell_type": "markdown",
   "metadata": {},
   "source": [
    "PART I : Scraping popular songs s. Popvortex maintains a weekly Top 100 of \"hot\" songs here: http://www.popvortex.com/music/charts/top-100-songs.phart! Scrape the current top 100 songs and their respective artists, and put the information into a pandas dataframe."
   ]
  },
  {
   "cell_type": "code",
   "execution_count": 2,
   "metadata": {},
   "outputs": [],
   "source": [
    "#store the url in a variable\n",
    "url = \"http://www.popvortex.com/music/charts/top-100-songs.php\""
   ]
  },
  {
   "cell_type": "code",
   "execution_count": 3,
   "metadata": {},
   "outputs": [],
   "source": [
    "#download the html with a request\n",
    "response = requests.get(url)"
   ]
  },
  {
   "cell_type": "code",
   "execution_count": 4,
   "metadata": {},
   "outputs": [
    {
     "data": {
      "text/plain": [
       "200"
      ]
     },
     "execution_count": 4,
     "metadata": {},
     "output_type": "execute_result"
    }
   ],
   "source": [
    "#verify the response status\n",
    "response.status_code"
   ]
  },
  {
   "cell_type": "code",
   "execution_count": 5,
   "metadata": {},
   "outputs": [],
   "source": [
    "#parse the html\n",
    "soup = BeautifulSoup(response.content, \"html.parser\")"
   ]
  },
  {
   "cell_type": "code",
   "execution_count": 6,
   "metadata": {},
   "outputs": [],
   "source": [
    "# retrieve/extract the top100 songs genral chart (using the top100 songs \"Selector\")\n",
    "top100=soup.select(\"body > div.container > div:nth-child(4) > div.col-xs-12.col-md-8 > div.chart-wrapper\")\n",
    "#top100"
   ]
  },
  {
   "cell_type": "code",
   "execution_count": 7,
   "metadata": {},
   "outputs": [
    {
     "name": "stdout",
     "output_type": "stream",
     "text": [
      "['Not Like Us', 'A Bar Song (Tipsy)', 'meet the grahams', 'Where That Came From', 'euphoria', 'Lose Control', 'Beautiful Things', 'Family Matters', 'MILLION DOLLAR BABY', 'Too Sweet', 'A Bar Song (Tipsy)', 'Not Today', 'Hollywood Nights', 'Espresso', 'Miles On It', 'Fortnight (feat. Post Malone)', 'Like That', 'Kendrick Lamar 6:16 In LA Drake Diss', 'Illusion', 'Hollywood Nights', 'Training Season', 'Live Like You Were Dying', 'Push Ups', 'The Door', 'Wondering Why', 'Save Me (with Lainey Wilson)', 'i like the way you kiss me', 'Where the Wild Things Are', 'GO HOME W U', 'Lil Boo Thang', 'Halfway To Hell', 'Wildflowers and Wild Horses (Single Version)', 'Austin', 'Need a Favor', 'Unwritten', 'TRUCK BED', 'Cowgirls (feat. ERNEST)', 'The Sound of Silence (CYRIL Remix)', 'Stick Season', 'I Can Do It With a Broken Heart', 'White Horse', \"TEXAS HOLD 'EM\", 'Fast Car', 'Dirt Cheap', 'Save Me', 'Selling (feat. OJ Da Juiceman)', 'A Country Boy Can Survive', 'Beautiful Things', 'Houdini', 'Last Night', 'Austin', 'Praise (feat. Brandon Lake, Chris Brown & Chandler Moore)', 'I Remember Everything (feat. Kacey Musgraves)', 'Closer', 'GOOD DAY', 'Bulletproof', 'Lobby', 'Lovin On Me', 'Flowers', 'I Hope You Dance', \"we can't be friends (wait for your love)\", 'Slow It Down', 'Thinkin’ Bout Me', 'Wine Into Whiskey', 'You Make Everything Beautiful', 'Cruel Summer', 'Made For Me', 'Forever and Ever, Amen', 'Tennessee Whiskey', 'Unstoppable', 'Hard to Love', 'Powerful Women', 'Belong Together', 'II MOST WANTED', 'Who’s Afraid of Little Old Me?', 'Broadway Girls (feat. Morgan Wallen)', 'Light On', 'Down Bad', 'Pirates & Parrots (feat. Mac McAnally)', 'Divine', 'Take It All Back', 'Wanna Be', 'End of Beginning', 'Home', 'Saturn', 'Wranglers', 'Angels (Don’t Always Have Wings)', 'Goodness of God (Live)', 'Hammer to the Heart', \"Something in the Orange (Z&E's Version)\", 'Cab In A Solo', 'What Was I Made For? (From The Motion Picture \"Barbie\")', 'Been Like This', 'Spirit In the Sky', 'Spin You Around (1/24)', 'Taste', 'Happy For You', \"Set My Heart On Fire (I'm Alive x And The Beat Goes On)\", 'Wanna Be', 'G.R.I.T.S']\n",
      "['Kendrick Lamar', 'Shaboozey', 'Kendrick Lamar', 'Randy Travis', 'Kendrick Lamar', 'Teddy Swims', 'Benson Boone', 'Drake', 'Tommy Richman', 'Hozier', 'Shaboozey', 'BTS', 'Black Oxygen', 'Sabrina Carpenter', 'Marshmello & Kane Brown', 'Taylor Swift', 'Future, Metro Boomin & Kendrick Lamar', 'Gloc23', 'Dua Lipa', 'Black Oxygen', 'Dua Lipa', 'Tim McGraw', 'Drake', 'Teddy Swims', 'The Red Clay Strays', 'Jelly Roll', 'Artemas', 'Luke Combs', 'Keith Urban & Lainey Wilson', 'Paul Russell', 'Jelly Roll', 'Lainey Wilson', 'Dasha', 'Jelly Roll', 'Natasha Bedingfield', 'HARDY', 'Morgan Wallen', 'Disturbed', 'Noah Kahan', 'Taylor Swift', 'Chris Stapleton', 'Beyoncé', 'Luke Combs', 'Cody Johnson', 'Jelly Roll', 'Sukihana', 'Hank Williams, Jr.', 'Benson Boone', 'Dua Lipa', 'Morgan Wallen', 'Dasha', 'Elevation Worship', 'Zach Bryan', 'August Moon', 'Forrest Frank', 'Nate Smith', 'SMITH', 'Jack Harlow', 'Miley Cyrus', 'Lee Ann Womack', 'Ariana Grande', 'Benson Boone', 'Morgan Wallen', 'Tucker Wetmore', 'for KING & COUNTRY & Rebecca St. James', 'Taylor Swift', 'Muni Long', 'Randy Travis', 'Chris Stapleton', 'Sia', 'Lee Brice', 'Pitbull & Dolly Parton', 'Mark Ambor', 'Beyoncé & Miley Cyrus', 'Taylor Swift', 'Lil Durk', 'Maggie Rogers', 'Taylor Swift', 'Zac Brown Band', 'All That Remains', 'Tauren Wells, We The Kingdom & Davies', 'GloRilla & Megan Thee Stallion', 'Djo', 'Good Neighbours', 'SZA', 'Miranda Lambert', 'Thomas Rhett', 'CeCe Winans', 'Teddy Swims', 'Zach Bryan', 'Scotty McCreery', 'Billie Eilish', 'Meghan Trainor & T-Pain', 'Norman Greenbaum', 'Morgan Wallen', 'August Moon', 'Dua Lipa', 'Majestic, The Jammin Kid & Céline Dion', 'GloRilla & Megan Thee Stallion', 'Jimmie Allen']\n"
     ]
    }
   ],
   "source": [
    "# from the general chart, extracting the title and artist of each songs and storing them into lists\n",
    "title=[]\n",
    "artist=[]\n",
    "for l in top100:\n",
    "    for t in l.select(\".title\"):\n",
    "        title.append(t.get_text())\n",
    "    for a in l.select(\".artist\"):\n",
    "        artist.append(a.get_text())\n",
    "print(title)\n",
    "print(artist)"
   ]
  },
  {
   "cell_type": "code",
   "execution_count": 8,
   "metadata": {},
   "outputs": [
    {
     "data": {
      "text/html": [
       "<div>\n",
       "<style scoped>\n",
       "    .dataframe tbody tr th:only-of-type {\n",
       "        vertical-align: middle;\n",
       "    }\n",
       "\n",
       "    .dataframe tbody tr th {\n",
       "        vertical-align: top;\n",
       "    }\n",
       "\n",
       "    .dataframe thead th {\n",
       "        text-align: right;\n",
       "    }\n",
       "</style>\n",
       "<table border=\"1\" class=\"dataframe\">\n",
       "  <thead>\n",
       "    <tr style=\"text-align: right;\">\n",
       "      <th></th>\n",
       "      <th>title</th>\n",
       "      <th>artist</th>\n",
       "    </tr>\n",
       "  </thead>\n",
       "  <tbody>\n",
       "    <tr>\n",
       "      <th>0</th>\n",
       "      <td>Not Like Us</td>\n",
       "      <td>Kendrick Lamar</td>\n",
       "    </tr>\n",
       "    <tr>\n",
       "      <th>1</th>\n",
       "      <td>A Bar Song (Tipsy)</td>\n",
       "      <td>Shaboozey</td>\n",
       "    </tr>\n",
       "    <tr>\n",
       "      <th>2</th>\n",
       "      <td>meet the grahams</td>\n",
       "      <td>Kendrick Lamar</td>\n",
       "    </tr>\n",
       "    <tr>\n",
       "      <th>3</th>\n",
       "      <td>Where That Came From</td>\n",
       "      <td>Randy Travis</td>\n",
       "    </tr>\n",
       "    <tr>\n",
       "      <th>4</th>\n",
       "      <td>euphoria</td>\n",
       "      <td>Kendrick Lamar</td>\n",
       "    </tr>\n",
       "    <tr>\n",
       "      <th>...</th>\n",
       "      <td>...</td>\n",
       "      <td>...</td>\n",
       "    </tr>\n",
       "    <tr>\n",
       "      <th>95</th>\n",
       "      <td>Taste</td>\n",
       "      <td>August Moon</td>\n",
       "    </tr>\n",
       "    <tr>\n",
       "      <th>96</th>\n",
       "      <td>Happy For You</td>\n",
       "      <td>Dua Lipa</td>\n",
       "    </tr>\n",
       "    <tr>\n",
       "      <th>97</th>\n",
       "      <td>Set My Heart On Fire (I'm Alive x And The Beat...</td>\n",
       "      <td>Majestic, The Jammin Kid &amp; Céline Dion</td>\n",
       "    </tr>\n",
       "    <tr>\n",
       "      <th>98</th>\n",
       "      <td>Wanna Be</td>\n",
       "      <td>GloRilla &amp; Megan Thee Stallion</td>\n",
       "    </tr>\n",
       "    <tr>\n",
       "      <th>99</th>\n",
       "      <td>G.R.I.T.S</td>\n",
       "      <td>Jimmie Allen</td>\n",
       "    </tr>\n",
       "  </tbody>\n",
       "</table>\n",
       "<p>100 rows × 2 columns</p>\n",
       "</div>"
      ],
      "text/plain": [
       "                                                title  \\\n",
       "0                                         Not Like Us   \n",
       "1                                  A Bar Song (Tipsy)   \n",
       "2                                    meet the grahams   \n",
       "3                                Where That Came From   \n",
       "4                                            euphoria   \n",
       "..                                                ...   \n",
       "95                                              Taste   \n",
       "96                                      Happy For You   \n",
       "97  Set My Heart On Fire (I'm Alive x And The Beat...   \n",
       "98                                           Wanna Be   \n",
       "99                                          G.R.I.T.S   \n",
       "\n",
       "                                    artist  \n",
       "0                           Kendrick Lamar  \n",
       "1                                Shaboozey  \n",
       "2                           Kendrick Lamar  \n",
       "3                             Randy Travis  \n",
       "4                           Kendrick Lamar  \n",
       "..                                     ...  \n",
       "95                             August Moon  \n",
       "96                                Dua Lipa  \n",
       "97  Majestic, The Jammin Kid & Céline Dion  \n",
       "98          GloRilla & Megan Thee Stallion  \n",
       "99                            Jimmie Allen  \n",
       "\n",
       "[100 rows x 2 columns]"
      ]
     },
     "execution_count": 8,
     "metadata": {},
     "output_type": "execute_result"
    }
   ],
   "source": [
    "# combining the lists into a dataframe\n",
    "top100_df = pd.DataFrame({\"title\":title, \"artist\":artist})\n",
    "top100_df"
   ]
  },
  {
   "cell_type": "markdown",
   "metadata": {},
   "source": [
    "Asking for user input and recommending a random song from top100"
   ]
  },
  {
   "cell_type": "code",
   "execution_count": null,
   "metadata": {},
   "outputs": [],
   "source": [
    "#asking for user input\n",
    "song_title=input(\"Enter song title: \")"
   ]
  },
  {
   "cell_type": "code",
   "execution_count": null,
   "metadata": {},
   "outputs": [],
   "source": [
    "\n",
    "#recommending a song\n",
    "if song_title.lower() in top100_df['title'].str.lower().values:\n",
    "    random=top100_df.sample()\n",
    "    print(\"You should check out:\")\n",
    "    print(random['title'].values[0], ' by ', random['artist'].values[0])\n",
    "else:\n",
    "    print(\"Can't recommend songs at the moment\")"
   ]
  }
 ],
 "metadata": {
  "kernelspec": {
   "display_name": "Python 3",
   "language": "python",
   "name": "python3"
  },
  "language_info": {
   "codemirror_mode": {
    "name": "ipython",
    "version": 3
   },
   "file_extension": ".py",
   "mimetype": "text/x-python",
   "name": "python",
   "nbconvert_exporter": "python",
   "pygments_lexer": "ipython3",
   "version": "3.11.8"
  }
 },
 "nbformat": 4,
 "nbformat_minor": 2
}
