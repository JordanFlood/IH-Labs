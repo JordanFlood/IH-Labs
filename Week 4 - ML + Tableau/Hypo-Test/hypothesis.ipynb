{
 "cells": [
  {
   "cell_type": "markdown",
   "metadata": {},
   "source": [
    "# Before you start:\n",
    "- Read the README.md file\n",
    "- Comment as much as you can and use the resources (README.md file)\n",
    "- Always state the H0 and H1 before conducting the hypothesis test.\n",
    "- Happy learning!"
   ]
  },
  {
   "cell_type": "code",
   "execution_count": 1,
   "metadata": {},
   "outputs": [],
   "source": [
    "# import numpy and pandas\n",
    "import numpy as np\n",
    "import pandas as pd\n",
    "\n"
   ]
  },
  {
   "cell_type": "markdown",
   "metadata": {},
   "source": [
    "# Challenge 1 - Exploring the Data\n",
    "\n",
    "In this challenge, we will examine all salaries of employees of the City of Chicago. We will start by loading the dataset and examining its contents. "
   ]
  },
  {
   "cell_type": "code",
   "execution_count": 2,
   "metadata": {},
   "outputs": [
    {
     "data": {
      "text/html": [
       "<div>\n",
       "<style scoped>\n",
       "    .dataframe tbody tr th:only-of-type {\n",
       "        vertical-align: middle;\n",
       "    }\n",
       "\n",
       "    .dataframe tbody tr th {\n",
       "        vertical-align: top;\n",
       "    }\n",
       "\n",
       "    .dataframe thead th {\n",
       "        text-align: right;\n",
       "    }\n",
       "</style>\n",
       "<table border=\"1\" class=\"dataframe\">\n",
       "  <thead>\n",
       "    <tr style=\"text-align: right;\">\n",
       "      <th></th>\n",
       "      <th>Name</th>\n",
       "      <th>Job Titles</th>\n",
       "      <th>Department</th>\n",
       "      <th>Full or Part-Time</th>\n",
       "      <th>Salary or Hourly</th>\n",
       "      <th>Typical Hours</th>\n",
       "      <th>Annual Salary</th>\n",
       "      <th>Hourly Rate</th>\n",
       "    </tr>\n",
       "  </thead>\n",
       "  <tbody>\n",
       "    <tr>\n",
       "      <th>0</th>\n",
       "      <td>ADRIANO,  RACQUEL ANNE</td>\n",
       "      <td>PARAMEDIC</td>\n",
       "      <td>FIRE</td>\n",
       "      <td>F</td>\n",
       "      <td>Salary</td>\n",
       "      <td>NaN</td>\n",
       "      <td>72510.0</td>\n",
       "      <td>NaN</td>\n",
       "    </tr>\n",
       "    <tr>\n",
       "      <th>1</th>\n",
       "      <td>AFFANEH,  MAHIR A</td>\n",
       "      <td>POLICE OFFICER</td>\n",
       "      <td>POLICE</td>\n",
       "      <td>F</td>\n",
       "      <td>Salary</td>\n",
       "      <td>NaN</td>\n",
       "      <td>93354.0</td>\n",
       "      <td>NaN</td>\n",
       "    </tr>\n",
       "    <tr>\n",
       "      <th>2</th>\n",
       "      <td>AFOENYI,  PHYLLIS</td>\n",
       "      <td>TITLE V PROGRAM TRAINEE I</td>\n",
       "      <td>FAMILY &amp; SUPPORT</td>\n",
       "      <td>P</td>\n",
       "      <td>Hourly</td>\n",
       "      <td>20.0</td>\n",
       "      <td>NaN</td>\n",
       "      <td>13.0</td>\n",
       "    </tr>\n",
       "    <tr>\n",
       "      <th>3</th>\n",
       "      <td>AGAR,  BULENT B</td>\n",
       "      <td>DEPUTY COMMISSIONER</td>\n",
       "      <td>WATER MGMNT</td>\n",
       "      <td>F</td>\n",
       "      <td>Salary</td>\n",
       "      <td>NaN</td>\n",
       "      <td>132972.0</td>\n",
       "      <td>NaN</td>\n",
       "    </tr>\n",
       "    <tr>\n",
       "      <th>4</th>\n",
       "      <td>AGEE,  LAWRENCE</td>\n",
       "      <td>POLICE OFFICER</td>\n",
       "      <td>POLICE</td>\n",
       "      <td>F</td>\n",
       "      <td>Salary</td>\n",
       "      <td>NaN</td>\n",
       "      <td>90024.0</td>\n",
       "      <td>NaN</td>\n",
       "    </tr>\n",
       "    <tr>\n",
       "      <th>...</th>\n",
       "      <td>...</td>\n",
       "      <td>...</td>\n",
       "      <td>...</td>\n",
       "      <td>...</td>\n",
       "      <td>...</td>\n",
       "      <td>...</td>\n",
       "      <td>...</td>\n",
       "      <td>...</td>\n",
       "    </tr>\n",
       "    <tr>\n",
       "      <th>33697</th>\n",
       "      <td>ZYLINSKA,  KLAUDIA</td>\n",
       "      <td>POLICE OFFICER</td>\n",
       "      <td>POLICE</td>\n",
       "      <td>F</td>\n",
       "      <td>Salary</td>\n",
       "      <td>NaN</td>\n",
       "      <td>72510.0</td>\n",
       "      <td>NaN</td>\n",
       "    </tr>\n",
       "    <tr>\n",
       "      <th>33698</th>\n",
       "      <td>ZYMANTAS,  LAURA C</td>\n",
       "      <td>POLICE OFFICER</td>\n",
       "      <td>POLICE</td>\n",
       "      <td>F</td>\n",
       "      <td>Salary</td>\n",
       "      <td>NaN</td>\n",
       "      <td>76266.0</td>\n",
       "      <td>NaN</td>\n",
       "    </tr>\n",
       "    <tr>\n",
       "      <th>33699</th>\n",
       "      <td>ZYMANTAS,  MARK E</td>\n",
       "      <td>POLICE OFFICER</td>\n",
       "      <td>POLICE</td>\n",
       "      <td>F</td>\n",
       "      <td>Salary</td>\n",
       "      <td>NaN</td>\n",
       "      <td>90024.0</td>\n",
       "      <td>NaN</td>\n",
       "    </tr>\n",
       "    <tr>\n",
       "      <th>33700</th>\n",
       "      <td>ZYRKOWSKI,  CARLO E</td>\n",
       "      <td>POLICE OFFICER</td>\n",
       "      <td>POLICE</td>\n",
       "      <td>F</td>\n",
       "      <td>Salary</td>\n",
       "      <td>NaN</td>\n",
       "      <td>93354.0</td>\n",
       "      <td>NaN</td>\n",
       "    </tr>\n",
       "    <tr>\n",
       "      <th>33701</th>\n",
       "      <td>ZYSKOWSKI,  DARIUSZ</td>\n",
       "      <td>CHIEF DATA BASE ANALYST</td>\n",
       "      <td>DAIS</td>\n",
       "      <td>F</td>\n",
       "      <td>Salary</td>\n",
       "      <td>NaN</td>\n",
       "      <td>126732.0</td>\n",
       "      <td>NaN</td>\n",
       "    </tr>\n",
       "  </tbody>\n",
       "</table>\n",
       "<p>33702 rows × 8 columns</p>\n",
       "</div>"
      ],
      "text/plain": [
       "                         Name                 Job Titles        Department  \\\n",
       "0      ADRIANO,  RACQUEL ANNE                  PARAMEDIC              FIRE   \n",
       "1           AFFANEH,  MAHIR A             POLICE OFFICER            POLICE   \n",
       "2           AFOENYI,  PHYLLIS  TITLE V PROGRAM TRAINEE I  FAMILY & SUPPORT   \n",
       "3             AGAR,  BULENT B        DEPUTY COMMISSIONER       WATER MGMNT   \n",
       "4             AGEE,  LAWRENCE             POLICE OFFICER            POLICE   \n",
       "...                       ...                        ...               ...   \n",
       "33697      ZYLINSKA,  KLAUDIA             POLICE OFFICER            POLICE   \n",
       "33698      ZYMANTAS,  LAURA C             POLICE OFFICER            POLICE   \n",
       "33699       ZYMANTAS,  MARK E             POLICE OFFICER            POLICE   \n",
       "33700     ZYRKOWSKI,  CARLO E             POLICE OFFICER            POLICE   \n",
       "33701     ZYSKOWSKI,  DARIUSZ    CHIEF DATA BASE ANALYST              DAIS   \n",
       "\n",
       "      Full or Part-Time Salary or Hourly  Typical Hours  Annual Salary  \\\n",
       "0                     F           Salary            NaN        72510.0   \n",
       "1                     F           Salary            NaN        93354.0   \n",
       "2                     P           Hourly           20.0            NaN   \n",
       "3                     F           Salary            NaN       132972.0   \n",
       "4                     F           Salary            NaN        90024.0   \n",
       "...                 ...              ...            ...            ...   \n",
       "33697                 F           Salary            NaN        72510.0   \n",
       "33698                 F           Salary            NaN        76266.0   \n",
       "33699                 F           Salary            NaN        90024.0   \n",
       "33700                 F           Salary            NaN        93354.0   \n",
       "33701                 F           Salary            NaN       126732.0   \n",
       "\n",
       "       Hourly Rate  \n",
       "0              NaN  \n",
       "1              NaN  \n",
       "2             13.0  \n",
       "3              NaN  \n",
       "4              NaN  \n",
       "...            ...  \n",
       "33697          NaN  \n",
       "33698          NaN  \n",
       "33699          NaN  \n",
       "33700          NaN  \n",
       "33701          NaN  \n",
       "\n",
       "[33702 rows x 8 columns]"
      ]
     },
     "execution_count": 2,
     "metadata": {},
     "output_type": "execute_result"
    }
   ],
   "source": [
    "# Your code here:\n",
    "salaries_data = pd.read_csv(\"Current_Employee_Names__Salaries__and_Position_Titles.csv\")\n",
    "salaries_data"
   ]
  },
  {
   "cell_type": "markdown",
   "metadata": {},
   "source": [
    "Examine the `salaries` dataset using the `head` function below."
   ]
  },
  {
   "cell_type": "code",
   "execution_count": 3,
   "metadata": {},
   "outputs": [
    {
     "data": {
      "text/plain": [
       "<bound method NDFrame.head of                          Name                 Job Titles        Department  \\\n",
       "0      ADRIANO,  RACQUEL ANNE                  PARAMEDIC              FIRE   \n",
       "1           AFFANEH,  MAHIR A             POLICE OFFICER            POLICE   \n",
       "2           AFOENYI,  PHYLLIS  TITLE V PROGRAM TRAINEE I  FAMILY & SUPPORT   \n",
       "3             AGAR,  BULENT B        DEPUTY COMMISSIONER       WATER MGMNT   \n",
       "4             AGEE,  LAWRENCE             POLICE OFFICER            POLICE   \n",
       "...                       ...                        ...               ...   \n",
       "33697      ZYLINSKA,  KLAUDIA             POLICE OFFICER            POLICE   \n",
       "33698      ZYMANTAS,  LAURA C             POLICE OFFICER            POLICE   \n",
       "33699       ZYMANTAS,  MARK E             POLICE OFFICER            POLICE   \n",
       "33700     ZYRKOWSKI,  CARLO E             POLICE OFFICER            POLICE   \n",
       "33701     ZYSKOWSKI,  DARIUSZ    CHIEF DATA BASE ANALYST              DAIS   \n",
       "\n",
       "      Full or Part-Time Salary or Hourly  Typical Hours  Annual Salary  \\\n",
       "0                     F           Salary            NaN        72510.0   \n",
       "1                     F           Salary            NaN        93354.0   \n",
       "2                     P           Hourly           20.0            NaN   \n",
       "3                     F           Salary            NaN       132972.0   \n",
       "4                     F           Salary            NaN        90024.0   \n",
       "...                 ...              ...            ...            ...   \n",
       "33697                 F           Salary            NaN        72510.0   \n",
       "33698                 F           Salary            NaN        76266.0   \n",
       "33699                 F           Salary            NaN        90024.0   \n",
       "33700                 F           Salary            NaN        93354.0   \n",
       "33701                 F           Salary            NaN       126732.0   \n",
       "\n",
       "       Hourly Rate  \n",
       "0              NaN  \n",
       "1              NaN  \n",
       "2             13.0  \n",
       "3              NaN  \n",
       "4              NaN  \n",
       "...            ...  \n",
       "33697          NaN  \n",
       "33698          NaN  \n",
       "33699          NaN  \n",
       "33700          NaN  \n",
       "33701          NaN  \n",
       "\n",
       "[33702 rows x 8 columns]>"
      ]
     },
     "metadata": {},
     "output_type": "display_data"
    }
   ],
   "source": [
    "display(salaries_data.head)\n"
   ]
  },
  {
   "cell_type": "markdown",
   "metadata": {},
   "source": [
    "We see from looking at the `head` function that there is quite a bit of missing data. Let's examine how much missing data is in each column. Produce this output in the cell below"
   ]
  },
  {
   "cell_type": "code",
   "execution_count": 4,
   "metadata": {},
   "outputs": [
    {
     "name": "stdout",
     "output_type": "stream",
     "text": [
      "Name                     0\n",
      "Job Titles               0\n",
      "Department               0\n",
      "Full or Part-Time        0\n",
      "Salary or Hourly         0\n",
      "Typical Hours        25528\n",
      "Annual Salary         8174\n",
      "Hourly Rate          25528\n",
      "dtype: int64\n"
     ]
    }
   ],
   "source": [
    "# Your code here:\n",
    "print(salaries_data.isnull().sum())\n"
   ]
  },
  {
   "cell_type": "markdown",
   "metadata": {},
   "source": [
    "Let's also look at the count of hourly vs. salaried employees. Write the code in the cell below"
   ]
  },
  {
   "cell_type": "code",
   "execution_count": 6,
   "metadata": {},
   "outputs": [
    {
     "name": "stdout",
     "output_type": "stream",
     "text": [
      "Count of hourly vs. salaried employees:\n",
      "Salary or Hourly\n",
      "Salary    25528\n",
      "Hourly     8174\n",
      "Name: count, dtype: int64\n",
      "\n",
      "List of departments and the count of employees in each:\n",
      "Department\n",
      "POLICE                 13848\n",
      "FIRE                    4627\n",
      "STREETS & SAN           2175\n",
      "WATER MGMNT             1914\n",
      "AVIATION                1856\n",
      "OEMC                    1737\n",
      "TRANSPORTN              1113\n",
      "PUBLIC LIBRARY          1088\n",
      "DAIS                    1033\n",
      "FAMILY & SUPPORT         656\n",
      "FINANCE                  544\n",
      "HEALTH                   467\n",
      "LAW                      398\n",
      "CITY COUNCIL             362\n",
      "BUILDINGS                258\n",
      "PUBLIC SAFETY ADMIN      244\n",
      "BUSINESS AFFAIRS         167\n",
      "HOUSING & ECON DEV       154\n",
      "COPA                     123\n",
      "BOARD OF ELECTION        111\n",
      "MAYOR'S OFFICE           104\n",
      "INSPECTOR GEN             95\n",
      "CITY CLERK                88\n",
      "PROCUREMENT               84\n",
      "HUMAN RESOURCES           75\n",
      "ANIMAL CONTRL             75\n",
      "CULTURAL AFFAIRS          74\n",
      "HOUSING                   66\n",
      "BUDGET & MGMT             44\n",
      "ADMIN HEARNG              38\n",
      "DISABILITIES              28\n",
      "TREASURER                 28\n",
      "HUMAN RELATIONS           17\n",
      "BOARD OF ETHICS            8\n",
      "POLICE BOARD               2\n",
      "LICENSE APPL COMM          1\n",
      "Name: count, dtype: int64\n"
     ]
    }
   ],
   "source": [
    "# Your code here:\n",
    "hourly_salaried_counts = salaries_data['Salary or Hourly'].value_counts()\n",
    "\n",
    "department_employee_counts = salaries_data['Department'].value_counts()\n",
    "\n",
    "print(\"Count of hourly vs. salaried employees:\")\n",
    "print(hourly_salaried_counts)\n",
    "print(\"\\nList of departments and the count of employees in each:\")\n",
    "print(department_employee_counts)\n",
    "\n"
   ]
  },
  {
   "cell_type": "markdown",
   "metadata": {},
   "source": [
    "What this information indicates is that the table contains information about two types of employees - salaried and hourly. Some columns apply only to one type of employee while other columns only apply to another kind. This is why there are so many missing values. Therefore, we will not do anything to handle the missing values."
   ]
  },
  {
   "cell_type": "markdown",
   "metadata": {},
   "source": [
    "There are different departments in the city. List all departments and the count of employees in each department."
   ]
  },
  {
   "cell_type": "code",
   "execution_count": 5,
   "metadata": {},
   "outputs": [
    {
     "name": "stdout",
     "output_type": "stream",
     "text": [
      "Department\n",
      "POLICE                 13848\n",
      "FIRE                    4627\n",
      "STREETS & SAN           2175\n",
      "WATER MGMNT             1914\n",
      "AVIATION                1856\n",
      "OEMC                    1737\n",
      "TRANSPORTN              1113\n",
      "PUBLIC LIBRARY          1088\n",
      "DAIS                    1033\n",
      "FAMILY & SUPPORT         656\n",
      "FINANCE                  544\n",
      "HEALTH                   467\n",
      "LAW                      398\n",
      "CITY COUNCIL             362\n",
      "BUILDINGS                258\n",
      "PUBLIC SAFETY ADMIN      244\n",
      "BUSINESS AFFAIRS         167\n",
      "HOUSING & ECON DEV       154\n",
      "COPA                     123\n",
      "BOARD OF ELECTION        111\n",
      "MAYOR'S OFFICE           104\n",
      "INSPECTOR GEN             95\n",
      "CITY CLERK                88\n",
      "PROCUREMENT               84\n",
      "HUMAN RESOURCES           75\n",
      "ANIMAL CONTRL             75\n",
      "CULTURAL AFFAIRS          74\n",
      "HOUSING                   66\n",
      "BUDGET & MGMT             44\n",
      "ADMIN HEARNG              38\n",
      "DISABILITIES              28\n",
      "TREASURER                 28\n",
      "HUMAN RELATIONS           17\n",
      "BOARD OF ETHICS            8\n",
      "POLICE BOARD               2\n",
      "LICENSE APPL COMM          1\n",
      "Name: count, dtype: int64\n"
     ]
    }
   ],
   "source": [
    "# Your code here:\n",
    "print(salaries_data['Department'].value_counts())\n"
   ]
  },
  {
   "cell_type": "markdown",
   "metadata": {},
   "source": [
    "# Challenge 2 - Hypothesis Tests\n",
    "\n",
    "In this section of the lab, we will test whether the hourly wage of all hourly workers is significantly different from $30/hr. Import the correct one sample test function from scipy and perform the hypothesis test for a 95% two sided confidence interval."
   ]
  },
  {
   "cell_type": "code",
   "execution_count": 7,
   "metadata": {},
   "outputs": [
    {
     "name": "stdout",
     "output_type": "stream",
     "text": [
      "Task 1 - t-statistic: 31.211500329216044, p-value: 3.825475847673794e-202\n"
     ]
    }
   ],
   "source": [
    "from scipy import stats\n",
    "\n",
    "hourly_wages = salaries_data[salaries_data['Salary or Hourly'] == 'Hourly']['Hourly Rate']\n",
    "t_statistic, p_value = stats.ttest_1samp(hourly_wages.dropna(), 30)\n",
    "print(f\"Task 1 - t-statistic: {t_statistic}, p-value: {p_value}\")"
   ]
  },
  {
   "cell_type": "markdown",
   "metadata": {},
   "source": [
    "We are also curious about salaries in the police force. The chief of police in Chicago claimed in a press briefing that salaries this year are higher than last year's mean of $86000/year a year for all salaried employees. Test this one sided hypothesis using a 95% confidence interval.\n",
    "\n",
    "Hint: A one tailed test has a p-value that is half of the two tailed p-value. If our Null hypothesis is less than or equal to, then to reject, the test statistic must be positive (rejects the <) and the p-value below 0.05 (rejects the =)."
   ]
  },
  {
   "cell_type": "markdown",
   "metadata": {},
   "source": [
    "## Task 2: Test if the average salary in the police department is different from $86,000/year."
   ]
  },
  {
   "cell_type": "code",
   "execution_count": 8,
   "metadata": {},
   "outputs": [
    {
     "name": "stdout",
     "output_type": "stream",
     "text": [
      "Task 2 - t-statistic: 18.51748561981861, p-value: 6.119566952121482e-76\n"
     ]
    }
   ],
   "source": [
    "police_salaries = salaries_data[(salaries_data['Department'] == 'POLICE') & (salaries_data['Salary or Hourly'] == 'Salary')]['Annual Salary']\n",
    "t_statistic_police, p_value_police = stats.ttest_1samp(police_salaries.dropna(), 86000)\n",
    "print(f\"Task 2 - t-statistic: {t_statistic_police}, p-value: {p_value_police / 2}\")\n"
   ]
  },
  {
   "cell_type": "markdown",
   "metadata": {},
   "source": [
    "Using the `crosstab` function, find the department that has the most hourly workers. "
   ]
  },
  {
   "cell_type": "markdown",
   "metadata": {},
   "source": [
    "## Task 3: Find the department with the most hourly workers."
   ]
  },
  {
   "cell_type": "code",
   "execution_count": 10,
   "metadata": {},
   "outputs": [
    {
     "name": "stdout",
     "output_type": "stream",
     "text": [
      "Task 3 - Department with the most hourly workers: STREETS & SAN\n"
     ]
    }
   ],
   "source": [
    "\n",
    "# Task 3: Find the department with the most hourly workers.\n",
    "hourly_departments = salaries_data[salaries_data['Salary or Hourly'] == 'Hourly']['Department'].value_counts().idxmax()\n",
    "print(f\"Task 3 - Department with the most hourly workers: {hourly_departments}\")\n"
   ]
  },
  {
   "cell_type": "markdown",
   "metadata": {},
   "source": [
    "The workers from the department with the most hourly workers have complained that their hourly wage is less than $35/hour. Using a one sample t-test, test this one-sided hypothesis at the 95% confidence level."
   ]
  },
  {
   "cell_type": "markdown",
   "metadata": {},
   "source": [
    "## Task 4: Test if the hourly wage in that department is less than $35/hr."
   ]
  },
  {
   "cell_type": "code",
   "execution_count": 11,
   "metadata": {},
   "outputs": [
    {
     "name": "stdout",
     "output_type": "stream",
     "text": [
      "Task 4 - t-statistic: 4.000138803968834, p-value: 3.2902372218867895e-05\n"
     ]
    }
   ],
   "source": [
    "# Your code here:\n",
    "dept_hourly_wages = salaries_data[(salaries_data['Department'] == hourly_departments) & (salaries_data['Salary or Hourly'] == 'Hourly')]['Hourly Rate']\n",
    "t_statistic_dept, p_value_dept = stats.ttest_1samp(dept_hourly_wages.dropna(), 35)\n",
    "print(f\"Task 4 - t-statistic: {t_statistic_dept}, p-value: {p_value_dept / 2}\")  # one-tailed test\n",
    "d"
   ]
  },
  {
   "cell_type": "markdown",
   "metadata": {},
   "source": [
    "# Challenge 3: To practice - Constructing Confidence Intervals\n",
    "\n",
    "While testing our hypothesis is a great way to gather empirical evidence for accepting or rejecting the hypothesis, another way to gather evidence is by creating a confidence interval. A confidence interval gives us information about the true mean of the population. So for a 95% confidence interval, we are 95% sure that the mean of the population is within the confidence interval. \n",
    ").\n",
    "\n",
    "To read more about confidence intervals, click [here](https://en.wikipedia.org/wiki/Confidence_interval).\n",
    "\n",
    "\n",
    "In the cell below, we will construct a 95% confidence interval for the mean hourly wage of all hourly workers. \n",
    "\n",
    "The confidence interval is computed in SciPy using the `t.interval` function. You can read more about this function [here](https://docs.scipy.org/doc/scipy-0.14.0/reference/generated/scipy.stats.t.html).\n",
    "\n",
    "To compute the confidence interval of the hourly wage, use the 0.95 for the confidence level, number of rows - 1 for degrees of freedom, the mean of the sample for the location parameter and the standard error for the scale. The standard error can be computed using [this](https://docs.scipy.org/doc/scipy/reference/generated/scipy.stats.sem.html) function in SciPy."
   ]
  },
  {
   "cell_type": "markdown",
   "metadata": {},
   "source": [
    "## 1. Construct a 95% confidence interval for the mean hourly wage of all hourly workers."
   ]
  },
  {
   "cell_type": "code",
   "execution_count": 12,
   "metadata": {},
   "outputs": [],
   "source": [
    "# Your code here:\n",
    "\n",
    "hourly_wage_data = salaries_data[salaries_data['Salary or Hourly'] == 'Hourly']['Hourly Rate'].dropna()\n",
    "mean_hourly_wage = np.mean(hourly_wage_data)\n",
    "std_error_hourly_wage = stats.sem(hourly_wage_data)\n",
    "confidence_interval_hourly = stats.t.interval(0.95, len(hourly_wage_data)-1, loc=mean_hourly_wage, scale=std_error_hourly_wage)\n"
   ]
  },
  {
   "cell_type": "markdown",
   "metadata": {},
   "source": [
    "Now construct the 95% confidence interval for all salaried employeed in the police in the cell below."
   ]
  },
  {
   "cell_type": "markdown",
   "metadata": {},
   "source": [
    "## 2. Construct a 95% confidence interval for all salaried employees in the police department.\n"
   ]
  },
  {
   "cell_type": "code",
   "execution_count": 13,
   "metadata": {},
   "outputs": [
    {
     "name": "stdout",
     "output_type": "stream",
     "text": [
      "95% confidence interval for the mean hourly wage of all hourly workers:\n",
      "(34.29839539204317, 34.874504045196865)\n",
      "\n",
      "95% confidence interval for all salaried employees in the police department:\n",
      "(88534.1182885883, 89134.11955863392)\n"
     ]
    }
   ],
   "source": [
    "# Your code here:\n",
    "\n",
    "police_salary_data = salaries_data[(salaries_data['Department'] == 'POLICE') & (salaries_data['Salary or Hourly'] == 'Salary')]['Annual Salary'].dropna()\n",
    "mean_police_salary = np.mean(police_salary_data)\n",
    "std_error_police_salary = stats.sem(police_salary_data)\n",
    "confidence_interval_police = stats.t.interval(0.95, len(police_salary_data)-1, loc=mean_police_salary, scale=std_error_police_salary)\n",
    "\n",
    "print(\"95% confidence interval for the mean hourly wage of all hourly workers:\")\n",
    "print(confidence_interval_hourly)\n",
    "print(\"\\n95% confidence interval for all salaried employees in the police department:\")\n",
    "print(confidence_interval_police)\n"
   ]
  },
  {
   "cell_type": "markdown",
   "metadata": {},
   "source": [
    "# Bonus Challenge - Hypothesis Tests of Proportions\n",
    "\n",
    "Another type of one sample test is a hypothesis test of proportions. In this test, we examine whether the proportion of a group in our sample is significantly different than a fraction. \n",
    "\n",
    "You can read more about one sample proportion tests [here](http://sphweb.bumc.bu.edu/otlt/MPH-Modules/BS/SAS/SAS6-CategoricalData/SAS6-CategoricalData2.html).\n",
    "\n",
    "In the cell below, use the `proportions_ztest` function from `statsmodels` to perform a hypothesis test that will determine whether the number of hourly workers in the City of Chicago is significantly different from 25% at the 95% confidence level."
   ]
  },
  {
   "cell_type": "code",
   "execution_count": null,
   "metadata": {},
   "outputs": [],
   "source": []
  },
  {
   "cell_type": "code",
   "execution_count": 14,
   "metadata": {},
   "outputs": [
    {
     "name": "stdout",
     "output_type": "stream",
     "text": [
      "Z-test statistic: -3.1962453870335, p-value: 0.0013922864704323116\n"
     ]
    }
   ],
   "source": [
    "# Your code here:\n",
    "\n",
    "from statsmodels.stats.proportion import proportions_ztest\n",
    "\n",
    "\n",
    "# Calculate the number of hourly workers\n",
    "hourly_workers_count = salaries_data[salaries_data['Salary or Hourly'] == 'Hourly'].shape[0]\n",
    "\n",
    "# Total number of employees\n",
    "total_employees = salaries_data.shape[0]\n",
    "\n",
    "# Number of successes - in this context, it is the number of hourly workers\n",
    "successes = hourly_workers_count\n",
    "\n",
    "# Number of trials - total number of employees\n",
    "nobs = total_employees\n",
    "\n",
    "# The value of the null hypothesis is that 25% of the employees are hourly\n",
    "value = 0.25\n",
    "\n",
    "# Perform the test\n",
    "stat, p_value = proportions_ztest(count=successes, nobs=nobs, value=value)\n",
    "\n",
    "print(f\"Z-test statistic: {stat}, p-value: {p_value}\")"
   ]
  },
  {
   "cell_type": "code",
   "execution_count": null,
   "metadata": {},
   "outputs": [],
   "source": []
  }
 ],
 "metadata": {
  "kernelspec": {
   "display_name": "Python 3 (ipykernel)",
   "language": "python",
   "name": "python3"
  },
  "language_info": {
   "codemirror_mode": {
    "name": "ipython",
    "version": 3
   },
   "file_extension": ".py",
   "mimetype": "text/x-python",
   "name": "python",
   "nbconvert_exporter": "python",
   "pygments_lexer": "ipython3",
   "version": "3.11.7"
  }
 },
 "nbformat": 4,
 "nbformat_minor": 4
}
